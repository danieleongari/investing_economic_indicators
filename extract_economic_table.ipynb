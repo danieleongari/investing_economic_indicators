{
 "cells": [
  {
   "attachments": {},
   "cell_type": "markdown",
   "metadata": {},
   "source": [
    "# Extract economic table and scrape titles"
   ]
  },
  {
   "cell_type": "code",
   "execution_count": 1,
   "metadata": {},
   "outputs": [],
   "source": [
    "import warnings\n",
    "warnings.filterwarnings(\"ignore\", category=DeprecationWarning) \n",
    "\n",
    "from bs4 import BeautifulSoup as bs\n",
    "from glob import glob\n",
    "import pandas as pd\n",
    "from tqdm import tqdm\n",
    "\n",
    "from selenium import webdriver \n",
    "import time\n",
    "sleep_time_sec = 1\n",
    "CHROME_OPTIONS = webdriver.chrome.options.Options()\n",
    "CHROME_OPTIONS.add_argument('--no-sandbox')\n",
    "CHROME_OPTIONS.add_argument('--headless')\n",
    "CHROMEDRIVER_PATH='/usr/local/bin/chromedriver'"
   ]
  },
  {
   "cell_type": "code",
   "execution_count": 2,
   "metadata": {},
   "outputs": [],
   "source": [
    "files = sorted(glob(\"./html_calendars/*html\"))\n",
    "\n",
    "href_flag_list = []\n",
    "for file in files:\n",
    "    with open(file) as fp:\n",
    "        soup = bs(fp, 'html.parser')\n",
    "    for tr in soup.find_all('tr', class_='js-event-item'):\n",
    "        tr_tuple = (\n",
    "            tr.find('td', class_='left event').a['href'],\n",
    "            tr.find('td', class_='left flagCur noWrap').find('span')['title']\n",
    "        )\n",
    "        href_flag_list.append(tr_tuple)"
   ]
  },
  {
   "cell_type": "code",
   "execution_count": 3,
   "metadata": {},
   "outputs": [
    {
     "data": {
      "text/plain": [
       "583"
      ]
     },
     "metadata": {},
     "output_type": "display_data"
    },
    {
     "data": {
      "text/plain": [
       "556"
      ]
     },
     "metadata": {},
     "output_type": "display_data"
    }
   ],
   "source": [
    "display(len(href_flag_list))\n",
    "href_flag_set = set(href_flag_list)\n",
    "display(len(href_flag_set))"
   ]
  },
  {
   "cell_type": "code",
   "execution_count": 4,
   "metadata": {},
   "outputs": [
    {
     "data": {
      "text/html": [
       "<div>\n",
       "<style scoped>\n",
       "    .dataframe tbody tr th:only-of-type {\n",
       "        vertical-align: middle;\n",
       "    }\n",
       "\n",
       "    .dataframe tbody tr th {\n",
       "        vertical-align: top;\n",
       "    }\n",
       "\n",
       "    .dataframe thead th {\n",
       "        text-align: right;\n",
       "    }\n",
       "</style>\n",
       "<table border=\"1\" class=\"dataframe\">\n",
       "  <thead>\n",
       "    <tr style=\"text-align: right;\">\n",
       "      <th></th>\n",
       "      <th>ID</th>\n",
       "      <th>Nation</th>\n",
       "      <th>Name</th>\n",
       "      <th>Title</th>\n",
       "      <th>URL</th>\n",
       "    </tr>\n",
       "  </thead>\n",
       "  <tbody>\n",
       "    <tr>\n",
       "      <th>0</th>\n",
       "      <td>25</td>\n",
       "      <td>United States</td>\n",
       "      <td>building permits</td>\n",
       "      <td>None</td>\n",
       "      <td>https://www.investing.com/economic-calendar/bu...</td>\n",
       "    </tr>\n",
       "    <tr>\n",
       "      <th>1</th>\n",
       "      <td>27</td>\n",
       "      <td>New Zealand</td>\n",
       "      <td>anz business confidence</td>\n",
       "      <td>None</td>\n",
       "      <td>https://www.investing.com/economic-calendar/an...</td>\n",
       "    </tr>\n",
       "    <tr>\n",
       "      <th>2</th>\n",
       "      <td>30</td>\n",
       "      <td>United Kingdom</td>\n",
       "      <td>business investment</td>\n",
       "      <td>None</td>\n",
       "      <td>https://www.investing.com/economic-calendar/bu...</td>\n",
       "    </tr>\n",
       "    <tr>\n",
       "      <th>3</th>\n",
       "      <td>33</td>\n",
       "      <td>United Kingdom</td>\n",
       "      <td>cbi distributive trades realized</td>\n",
       "      <td>None</td>\n",
       "      <td>https://www.investing.com/economic-calendar/cb...</td>\n",
       "    </tr>\n",
       "    <tr>\n",
       "      <th>4</th>\n",
       "      <td>34</td>\n",
       "      <td>United Kingdom</td>\n",
       "      <td>cbi industrial trends orders</td>\n",
       "      <td>None</td>\n",
       "      <td>https://www.investing.com/economic-calendar/cb...</td>\n",
       "    </tr>\n",
       "    <tr>\n",
       "      <th>...</th>\n",
       "      <td>...</td>\n",
       "      <td>...</td>\n",
       "      <td>...</td>\n",
       "      <td>...</td>\n",
       "      <td>...</td>\n",
       "    </tr>\n",
       "    <tr>\n",
       "      <th>551</th>\n",
       "      <td>2183</td>\n",
       "      <td>Austria</td>\n",
       "      <td>austria cpi nsa</td>\n",
       "      <td>None</td>\n",
       "      <td>https://www.investing.com/economic-calendar/au...</td>\n",
       "    </tr>\n",
       "    <tr>\n",
       "      <th>552</th>\n",
       "      <td>2187</td>\n",
       "      <td>Denmark</td>\n",
       "      <td>gdp revised</td>\n",
       "      <td>None</td>\n",
       "      <td>https://www.investing.com/economic-calendar/gd...</td>\n",
       "    </tr>\n",
       "    <tr>\n",
       "      <th>553</th>\n",
       "      <td>2188</td>\n",
       "      <td>Denmark</td>\n",
       "      <td>gdp revised</td>\n",
       "      <td>None</td>\n",
       "      <td>https://www.investing.com/economic-calendar/gd...</td>\n",
       "    </tr>\n",
       "    <tr>\n",
       "      <th>554</th>\n",
       "      <td>2194</td>\n",
       "      <td>Hong Kong</td>\n",
       "      <td>cpi</td>\n",
       "      <td>None</td>\n",
       "      <td>https://www.investing.com/economic-calendar/cp...</td>\n",
       "    </tr>\n",
       "    <tr>\n",
       "      <th>555</th>\n",
       "      <td>2198</td>\n",
       "      <td>Japan</td>\n",
       "      <td>cpi less food and energy</td>\n",
       "      <td>None</td>\n",
       "      <td>https://www.investing.com/economic-calendar/cp...</td>\n",
       "    </tr>\n",
       "  </tbody>\n",
       "</table>\n",
       "<p>556 rows × 5 columns</p>\n",
       "</div>"
      ],
      "text/plain": [
       "       ID          Nation                              Name Title   \n",
       "0      25   United States                  building permits  None  \\\n",
       "1      27     New Zealand           anz business confidence  None   \n",
       "2      30  United Kingdom               business investment  None   \n",
       "3      33  United Kingdom  cbi distributive trades realized  None   \n",
       "4      34  United Kingdom      cbi industrial trends orders  None   \n",
       "..    ...             ...                               ...   ...   \n",
       "551  2183         Austria                   austria cpi nsa  None   \n",
       "552  2187         Denmark                       gdp revised  None   \n",
       "553  2188         Denmark                       gdp revised  None   \n",
       "554  2194       Hong Kong                               cpi  None   \n",
       "555  2198           Japan          cpi less food and energy  None   \n",
       "\n",
       "                                                   URL  \n",
       "0    https://www.investing.com/economic-calendar/bu...  \n",
       "1    https://www.investing.com/economic-calendar/an...  \n",
       "2    https://www.investing.com/economic-calendar/bu...  \n",
       "3    https://www.investing.com/economic-calendar/cb...  \n",
       "4    https://www.investing.com/economic-calendar/cb...  \n",
       "..                                                 ...  \n",
       "551  https://www.investing.com/economic-calendar/au...  \n",
       "552  https://www.investing.com/economic-calendar/gd...  \n",
       "553  https://www.investing.com/economic-calendar/gd...  \n",
       "554  https://www.investing.com/economic-calendar/cp...  \n",
       "555  https://www.investing.com/economic-calendar/cp...  \n",
       "\n",
       "[556 rows x 5 columns]"
      ]
     },
     "execution_count": 4,
     "metadata": {},
     "output_type": "execute_result"
    }
   ],
   "source": [
    "row_list = []\n",
    "for href, flag in set(href_flag_set):\n",
    "    row = {\n",
    "        'ID': int(href.split('-')[-1]),\n",
    "        'Nation': flag,\n",
    "        'Title': None, \n",
    "        'Name': \" \".join(href.split('/')[-1].split('-')[:-1]),\n",
    "        'URL': href,\n",
    "    }\n",
    "    row_list.append(row)\n",
    "df = pd.DataFrame(row_list).sort_values(by='ID').reset_index(drop=True)\n",
    "df"
   ]
  },
  {
   "cell_type": "code",
   "execution_count": 5,
   "metadata": {},
   "outputs": [
    {
     "data": {
      "text/plain": [
       "'Attention Required! | Cloudflare'"
      ]
     },
     "execution_count": 5,
     "metadata": {},
     "output_type": "execute_result"
    }
   ],
   "source": [
    "# Try with requests\n",
    "url = \"https://www.investing.com/economic-calendar/french-cpi-112\"\n",
    "# get html\n",
    "import requests\n",
    "r = requests.get(url)\n",
    "# beautify html\n",
    "soup = bs(r.text, 'html.parser')\n",
    "soup.find('title').text\n"
   ]
  },
  {
   "cell_type": "code",
   "execution_count": 6,
   "metadata": {},
   "outputs": [
    {
     "data": {
      "text/plain": [
       "'France Consumer Price Index (CPI) MoM'"
      ]
     },
     "execution_count": 6,
     "metadata": {},
     "output_type": "execute_result"
    }
   ],
   "source": [
    "# Try with Selenium\n",
    "browser = webdriver.Chrome(executable_path=CHROMEDRIVER_PATH, options=CHROME_OPTIONS)\n",
    "url = \"https://www.investing.com/economic-calendar/french-cpi-112\"\n",
    "browser.get(url)\n",
    "time.sleep(sleep_time_sec) # To leave the time for the page to load \n",
    "html = browser.page_source\n",
    "browser.close()\n",
    "soup = bs(html,'html.parser')\n",
    "soup.find('title').text"
   ]
  },
  {
   "cell_type": "code",
   "execution_count": 13,
   "metadata": {},
   "outputs": [
    {
     "name": "stderr",
     "output_type": "stream",
     "text": [
      "100%|██████████| 507/507 [34:04<00:00,  4.03s/it] \n"
     ]
    }
   ],
   "source": [
    "df_to_fill = df[df.Title.isna()]\n",
    "for i, row in tqdm(df_to_fill.iterrows(), total=len(df_to_fill)):\n",
    "    browser = webdriver.Chrome(executable_path=CHROMEDRIVER_PATH, options=CHROME_OPTIONS)\n",
    "    browser.get(row['URL'])\n",
    "    time.sleep(sleep_time_sec)\n",
    "    html = browser.page_source\n",
    "    browser.close()\n",
    "    soup = bs(html,'html.parser')\n",
    "    title = soup.find('title').text\n",
    "    df.loc[i, 'Title'] = title\n",
    "    df.to_csv('economic_table.csv', index=False)"
   ]
  }
 ],
 "metadata": {
  "interpreter": {
   "hash": "2540cd9198af0b9eaea5a5cb83e008828d2d08e9e651b172f5d346fcf048848a"
  },
  "kernelspec": {
   "display_name": "Python 3.8.11 ('base1')",
   "language": "python",
   "name": "python3"
  },
  "language_info": {
   "codemirror_mode": {
    "name": "ipython",
    "version": 3
   },
   "file_extension": ".py",
   "mimetype": "text/x-python",
   "name": "python",
   "nbconvert_exporter": "python",
   "pygments_lexer": "ipython3",
   "version": "3.10.9"
  }
 },
 "nbformat": 4,
 "nbformat_minor": 4
}
